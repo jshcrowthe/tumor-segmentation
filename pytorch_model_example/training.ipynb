{
 "cells": [
  {
   "cell_type": "code",
   "execution_count": 1,
   "metadata": {},
   "outputs": [],
   "source": [
    "import torch\n",
    "import torch.nn as nn\n",
    "from torchvision.datasets import CIFAR10 \n",
    "import torch.nn.functional as F\n",
    "import os\n",
    "from torch import optim\n",
    "from tqdm.notebook import tqdm\n",
    "from torch.utils.data import DataLoader\n",
    "from torchvision import transforms\n",
    "from torchinfo  import summary"
   ]
  },
  {
   "cell_type": "code",
   "execution_count": 2,
   "metadata": {},
   "outputs": [
    {
     "name": "stdout",
     "output_type": "stream",
     "text": [
      "Files already downloaded and verified\n",
      "Files already downloaded and verified\n"
     ]
    }
   ],
   "source": [
    "transform = transforms.Compose([\n",
    "    transforms.ToTensor()\n",
    "])\n",
    "\n",
    "\n",
    "train_data = CIFAR10(\n",
    "    root = os.getcwd(),\n",
    "    download=True,\n",
    "    train= True,\n",
    "    transform = transform\n",
    ")\n",
    "\n",
    "test_data = CIFAR10(\n",
    "    root = os.getcwd(),\n",
    "    download=True,\n",
    "    train= False,\n",
    "    transform = transform\n",
    ")\n",
    "\n",
    "\n",
    "\n",
    "train_dataloader = DataLoader(train_data, batch_size=16, shuffle=True)\n",
    "test_dataloader = DataLoader(test_data, batch_size=16, shuffle=False)"
   ]
  },
  {
   "cell_type": "code",
   "execution_count": 6,
   "metadata": {},
   "outputs": [],
   "source": [
    "class Resnet(nn.Module):\n",
    "\n",
    "    def __init__(self,n_classes):\n",
    "        super().__init__()\n",
    "        self.pre = nn.Sequential(\n",
    "            nn.Conv2d(3,64,kernel_size=7,stride=2,padding=3,bias=False),\n",
    "            nn.BatchNorm2d(64),\n",
    "            nn.GELU(),\n",
    "            nn.MaxPool2d(kernel_size=3,stride=2,padding=1)\n",
    "        )\n",
    "\n",
    "        self.layer1 = ResLayer(64,128,3)\n",
    "        self.layer2 = ResLayer(128,256,4,stride = 2)\n",
    "        self.layer3 = ResLayer(256,512,4,stride = 2)\n",
    "        self.layer4 = ResLayer(512,512,4,stride = 2)\n",
    "        self.linear = nn.Sequential(\n",
    "            nn.Flatten(),\n",
    "            nn.Linear(512,n_classes)\n",
    "        )\n",
    "\n",
    "    def forward(self,X):\n",
    "\n",
    "        x = self.pre(X)\n",
    "\n",
    "        x = self.layer1(x)\n",
    "\n",
    "        x = self.layer2(x)\n",
    "\n",
    "        x = self.layer3(x)\n",
    "\n",
    "        x = self.layer4(x) \n",
    "\n",
    "        return self.linear(x)\n",
    "\n",
    "\n",
    "class ResBlock(nn.Module):\n",
    "    def __init__(self, in_channels,out_channels,stride=1,downsample = False):\n",
    "        super().__init__()\n",
    "        self.f = nn.Sequential(\n",
    "            nn.Conv2d(in_channels,out_channels,kernel_size = 3,stride= stride,padding=1,bias=False),\n",
    "            nn.BatchNorm2d(out_channels),\n",
    "            nn.GELU(),\n",
    "            nn.Conv2d(out_channels,out_channels,kernel_size = 1,stride= 1,padding=0,bias=False),\n",
    "            nn.BatchNorm2d(out_channels)\n",
    "        )\n",
    "        self.downsample = None\n",
    "        if downsample:\n",
    "            self.downsample = nn.Sequential(\n",
    "                nn.Conv2d(in_channels,out_channels,kernel_size=1,stride =stride,bias= False),\n",
    "                nn.BatchNorm2d(out_channels)\n",
    "                )\n",
    "\n",
    "    def forward(self,X):\n",
    "\n",
    "        x = self.f(X)\n",
    "\n",
    "        res = X\n",
    "        if self.downsample is not None:\n",
    "            res = self.downsample(res)\n",
    "\n",
    "        x = x+res\n",
    "\n",
    "        return F.gelu(x)\n",
    "\n",
    "\n",
    "class ResLayer(nn.Module):\n",
    "    def __init__(self,in_channels,out_channels,n_blocks,stride =1):\n",
    "        super().__init__()\n",
    "        self.f = self.make_layer(in_channels,out_channels,n_blocks,stride)\n",
    "    def make_layer(self,in_channels,out_channels,n_blocks,stride):\n",
    "        layers = []\n",
    "        layers.append(ResBlock(in_channels,out_channels,stride=stride,downsample=True))\n",
    "        \n",
    "        for i in range(1,n_blocks):\n",
    "\n",
    "            layers.append(ResBlock(out_channels,out_channels))\n",
    "\n",
    "        return nn.Sequential(*layers)\n",
    "\n",
    "\n",
    "        \n",
    "    def forward(self,X):\n",
    "        x = self.f(X)\n",
    "        return x"
   ]
  },
  {
   "cell_type": "code",
   "execution_count": 4,
   "metadata": {},
   "outputs": [],
   "source": [
    "model = Resnet(10)"
   ]
  },
  {
   "cell_type": "code",
   "execution_count": 7,
   "metadata": {},
   "outputs": [
    {
     "data": {
      "application/vnd.jupyter.widget-view+json": {
       "model_id": "ae387564b31540b7a123fb4dd9f38d50",
       "version_major": 2,
       "version_minor": 0
      },
      "text/plain": [
       "  0%|          | 0/3125 [00:00<?, ?it/s]"
      ]
     },
     "metadata": {},
     "output_type": "display_data"
    },
    {
     "name": "stdout",
     "output_type": "stream",
     "text": [
      "2.633793592453003\n",
      "1.8164016008377075\n",
      "1.670569658279419\n",
      "1.9431865215301514\n",
      "1.6359196901321411\n",
      "1.9278552532196045\n",
      "1.4356526136398315\n"
     ]
    },
    {
     "data": {
      "application/vnd.jupyter.widget-view+json": {
       "model_id": "73f07b5f1da9443a9f71e500d5150a5c",
       "version_major": 2,
       "version_minor": 0
      },
      "text/plain": [
       "  0%|          | 0/3125 [00:00<?, ?it/s]"
      ]
     },
     "metadata": {},
     "output_type": "display_data"
    },
    {
     "name": "stdout",
     "output_type": "stream",
     "text": [
      "1.5709526538848877\n",
      "1.5933587551116943\n",
      "1.3135788440704346\n",
      "1.5626775026321411\n",
      "1.7421927452087402\n",
      "1.335776448249817\n"
     ]
    },
    {
     "data": {
      "application/vnd.jupyter.widget-view+json": {
       "model_id": "e66a9d6c1c3d40fd99006b73b8aeb509",
       "version_major": 2,
       "version_minor": 0
      },
      "text/plain": [
       "  0%|          | 0/3125 [00:00<?, ?it/s]"
      ]
     },
     "metadata": {},
     "output_type": "display_data"
    },
    {
     "name": "stdout",
     "output_type": "stream",
     "text": [
      "1.170583963394165\n",
      "1.1138091087341309\n",
      "0.8874974846839905\n",
      "1.9145245552062988\n",
      "0.8875733017921448\n",
      "1.4602675437927246\n"
     ]
    },
    {
     "data": {
      "application/vnd.jupyter.widget-view+json": {
       "model_id": "8105527208ac40f6b2006b1bbb238947",
       "version_major": 2,
       "version_minor": 0
      },
      "text/plain": [
       "  0%|          | 0/3125 [00:00<?, ?it/s]"
      ]
     },
     "metadata": {},
     "output_type": "display_data"
    },
    {
     "name": "stdout",
     "output_type": "stream",
     "text": [
      "1.0584009885787964\n",
      "1.107518196105957\n",
      "1.6755684614181519\n",
      "0.8177648782730103\n",
      "0.7844170928001404\n",
      "1.4553511142730713\n"
     ]
    },
    {
     "data": {
      "application/vnd.jupyter.widget-view+json": {
       "model_id": "e4da7909273d4651951b755f84cdcf90",
       "version_major": 2,
       "version_minor": 0
      },
      "text/plain": [
       "  0%|          | 0/3125 [00:00<?, ?it/s]"
      ]
     },
     "metadata": {},
     "output_type": "display_data"
    },
    {
     "name": "stdout",
     "output_type": "stream",
     "text": [
      "0.9191901683807373\n",
      "0.8207089304924011\n",
      "0.7553139328956604\n",
      "0.9718639850616455\n",
      "1.1178653240203857\n",
      "0.38493332266807556\n",
      "0.9778648018836975\n"
     ]
    },
    {
     "data": {
      "application/vnd.jupyter.widget-view+json": {
       "model_id": "69cae2c64afd432999f3ab46b5aaa13b",
       "version_major": 2,
       "version_minor": 0
      },
      "text/plain": [
       "  0%|          | 0/3125 [00:00<?, ?it/s]"
      ]
     },
     "metadata": {},
     "output_type": "display_data"
    },
    {
     "name": "stdout",
     "output_type": "stream",
     "text": [
      "0.5056002140045166\n",
      "0.41254478693008423\n",
      "0.7643025517463684\n",
      "0.6467880606651306\n",
      "0.7527156472206116\n",
      "0.8349853157997131\n"
     ]
    },
    {
     "data": {
      "application/vnd.jupyter.widget-view+json": {
       "model_id": "4c3eb662673948e998ed6b8382babda1",
       "version_major": 2,
       "version_minor": 0
      },
      "text/plain": [
       "  0%|          | 0/3125 [00:00<?, ?it/s]"
      ]
     },
     "metadata": {},
     "output_type": "display_data"
    },
    {
     "name": "stdout",
     "output_type": "stream",
     "text": [
      "0.6749799847602844\n",
      "0.929689884185791\n",
      "0.7965520620346069\n",
      "0.6235604882240295\n",
      "0.5792805552482605\n",
      "0.45669227838516235\n"
     ]
    },
    {
     "data": {
      "application/vnd.jupyter.widget-view+json": {
       "model_id": "75cc1a1c554d4d0cbfa57037ffdc9172",
       "version_major": 2,
       "version_minor": 0
      },
      "text/plain": [
       "  0%|          | 0/3125 [00:00<?, ?it/s]"
      ]
     },
     "metadata": {},
     "output_type": "display_data"
    },
    {
     "name": "stdout",
     "output_type": "stream",
     "text": [
      "0.4719741940498352\n",
      "0.683571994304657\n",
      "1.4468988180160522\n",
      "0.8766253590583801\n",
      "0.8353974223136902\n",
      "0.7703700065612793\n"
     ]
    },
    {
     "data": {
      "application/vnd.jupyter.widget-view+json": {
       "model_id": "258bd23e016b43cab099251a1232511d",
       "version_major": 2,
       "version_minor": 0
      },
      "text/plain": [
       "  0%|          | 0/3125 [00:00<?, ?it/s]"
      ]
     },
     "metadata": {},
     "output_type": "display_data"
    },
    {
     "name": "stdout",
     "output_type": "stream",
     "text": [
      "0.23359215259552002\n",
      "0.14869390428066254\n",
      "0.24234870076179504\n",
      "0.27703550457954407\n",
      "0.36324381828308105\n",
      "0.44614049792289734\n",
      "0.2456749677658081\n"
     ]
    },
    {
     "data": {
      "application/vnd.jupyter.widget-view+json": {
       "model_id": "4b3a7d72ae644af8b7bccf316a8bb676",
       "version_major": 2,
       "version_minor": 0
      },
      "text/plain": [
       "  0%|          | 0/3125 [00:00<?, ?it/s]"
      ]
     },
     "metadata": {},
     "output_type": "display_data"
    },
    {
     "name": "stdout",
     "output_type": "stream",
     "text": [
      "0.4411335587501526\n",
      "0.1990174502134323\n",
      "0.2498278021812439\n",
      "0.49793684482574463\n",
      "0.13435281813144684\n",
      "0.1390952616930008\n"
     ]
    }
   ],
   "source": [
    "model = Resnet(10).cuda()\n",
    "optimizers = optim.Adam(model.parameters())\n",
    "loss_fn = nn.CrossEntropyLoss(label_smoothing =.01)\n",
    "\n",
    "i = 0\n",
    "for epoch in range(10):\n",
    "    for X,y in tqdm(train_dataloader):\n",
    "        optimizers.zero_grad()\n",
    "        pred = model(X.cuda())\n",
    "        loss = loss_fn(pred,y.cuda())\n",
    "        if i%500==0:\n",
    "            print(loss.item())\n",
    "        loss.backward()\n",
    "        optimizers.step()\n",
    "        i+=1"
   ]
  }
 ],
 "metadata": {
  "interpreter": {
   "hash": "23c8950680a1dd05e43b50f867385c59d30967c147561349dd988e88db166001"
  },
  "kernelspec": {
   "display_name": "Python 3.9.10 ('project': conda)",
   "language": "python",
   "name": "python3"
  },
  "language_info": {
   "codemirror_mode": {
    "name": "ipython",
    "version": 3
   },
   "file_extension": ".py",
   "mimetype": "text/x-python",
   "name": "python",
   "nbconvert_exporter": "python",
   "pygments_lexer": "ipython3",
   "version": "3.9.10"
  },
  "orig_nbformat": 4
 },
 "nbformat": 4,
 "nbformat_minor": 2
}
