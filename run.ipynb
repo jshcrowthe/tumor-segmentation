{
 "cells": [
  {
   "cell_type": "code",
   "execution_count": 1,
   "metadata": {},
   "outputs": [],
   "source": [
    "import os\n",
    "import sys\n",
    "import tarfile\n",
    "\n",
    "# Patch the path to include local libs\n",
    "sys.path.insert(0, os.path.abspath(\"./libs\"))"
   ]
  },
  {
   "cell_type": "code",
   "execution_count": 2,
   "metadata": {},
   "outputs": [],
   "source": [
    "# Import\n",
    "import pytorch_lightning as pl\n",
    "from data.data_loader import MyDataModule\n",
    "from training.PL_train import Main_Loop\n",
    "import torch.optim as optim\n",
    "import torchio as tio\n",
    "import torch\n",
    "import matplotlib.pyplot as plt\n",
    "from data.brats_nii_data_utils import nni_utils\n",
    "import numpy as np"
   ]
  },
  {
   "cell_type": "code",
   "execution_count": 3,
   "metadata": {},
   "outputs": [],
   "source": [
    "PROCESSED_DATA_PATH = os.path.abspath(\"./data/processed\")\n",
    "RAW_DATA_PATH = os.path.abspath(\"./data/raw\")"
   ]
  },
  {
   "cell_type": "code",
   "execution_count": 4,
   "metadata": {},
   "outputs": [],
   "source": [
    "size = (48, 64, 48)\n",
    "model = \"custom\"\n",
    "criterion = \"Focal\"\n",
    "batch_size = 4\n",
    "type_list = [\"t1\"]\n",
    "epochs = 50\n",
    "weight = torch.from_numpy(np.array([0.1, 1, 1, 1, 1])).float().cuda()\n",
    "model_args = {}\n",
    "\n",
    "# Data TRansforms\n",
    "train_transformer = tio.Compose(\n",
    "    [\n",
    "        tio.RandomMotion(p=0.2),\n",
    "        tio.RandomBiasField(p=0.3),\n",
    "        tio.ZNormalization(masking_method=tio.ZNormalization.mean),\n",
    "        tio.RandomNoise(p=0.5),\n",
    "        tio.RandomFlip(),\n",
    "        tio.OneOf(\n",
    "            {\n",
    "                tio.RandomAffine(): 0.8,\n",
    "                tio.RandomElasticDeformation(): 0.2,\n",
    "            }\n",
    "        ),\n",
    "    ]\n",
    ")\n",
    "\n",
    "val_transformer = tio.Compose(\n",
    "    [\n",
    "        tio.ZNormalization(masking_method=tio.ZNormalization.mean),\n",
    "    ]\n",
    ")\n",
    "\n",
    "# Dataloading\n",
    "data_module = MyDataModule(\n",
    "    data_dir=RAW_DATA_PATH,\n",
    "    out_dir=PROCESSED_DATA_PATH,\n",
    "    train_transformer=train_transformer,\n",
    "    val_transformer=val_transformer,\n",
    "    size=size,\n",
    "    type_list=type_list,\n",
    "    sample_list=type_list,\n",
    ")"
   ]
  },
  {
   "cell_type": "code",
   "execution_count": 5,
   "metadata": {},
   "outputs": [],
   "source": [
    "if len(os.listdir(RAW_DATA_PATH)) <= 1:\n",
    "    tarball_path = input(\"Path to BRATS 2021 training tarball\")\n",
    "    tarball_path = os.path.abspath(tarball_path)\n",
    "\n",
    "    if tarfile.is_tarfile(tarball_path):\n",
    "        # open file\n",
    "        file = tarfile.open(tarball_path)\n",
    "\n",
    "        # extracting file\n",
    "        file.extractall(RAW_DATA_PATH)\n",
    "\n",
    "        file.close()\n",
    "    else:\n",
    "        raise Exception(\"Valid tarball path not passed\")\n",
    "\n",
    "if len(os.listdir(PROCESSED_DATA_PATH)) <= 1:\n",
    "    print(\"Processing images\")\n",
    "    data_module.preprocessing()"
   ]
  },
  {
   "cell_type": "code",
   "execution_count": 6,
   "metadata": {},
   "outputs": [
    {
     "name": "stderr",
     "output_type": "stream",
     "text": [
      "GPU available: True, used: True\n",
      "TPU available: False, using: 0 TPU cores\n",
      "IPU available: False, using: 0 IPUs\n",
      "HPU available: False, using: 0 HPUs\n",
      "/usr/lib/python3/dist-packages/torch/nn/modules/lazy.py:178: UserWarning: Lazy modules are a new feature under heavy development so changes to the API or functionality can happen at any moment.\n",
      "  warnings.warn('Lazy modules are a new feature under heavy development '\n",
      "/usr/lib/python3/dist-packages/torch/nn/_reduction.py:42: UserWarning: size_average and reduce args will be deprecated, please use reduction='none' instead.\n",
      "  warnings.warn(warning.format(ret))\n",
      "LOCAL_RANK: 0 - CUDA_VISIBLE_DEVICES: [0]\n",
      "/home/josh/.local/lib/python3.8/site-packages/pytorch_lightning/utilities/model_summary.py:407: UserWarning: A layer with UninitializedParameter was found. Thus, the total number of parameters detected may be inaccurate.\n",
      "  warning_cache.warn(\n",
      "\n",
      "  | Name  | Type        | Params\n",
      "--------------------------------------\n",
      "0 | model | CustomModel | 1.4 M \n",
      "1 | loss  | FocalLoss   | 0     \n",
      "--------------------------------------\n",
      "1.4 M     Trainable params\n",
      "0         Non-trainable params\n",
      "1.4 M     Total params\n",
      "5.573     Total estimated model params size (MB)\n"
     ]
    },
    {
     "name": "stdout",
     "output_type": "stream",
     "text": [
      "/home/josh/Repos/tumor-segmentation/data/processed\n"
     ]
    },
    {
     "data": {
      "application/vnd.jupyter.widget-view+json": {
       "model_id": "d7a3d11fa0c745dea49942532f9f3659",
       "version_major": 2,
       "version_minor": 0
      },
      "text/plain": [
       "Sanity Checking: 0it [00:00, ?it/s]"
      ]
     },
     "metadata": {},
     "output_type": "display_data"
    },
    {
     "data": {
      "application/vnd.jupyter.widget-view+json": {
       "model_id": "af570c3ef084482aa5df2868b00a39ea",
       "version_major": 2,
       "version_minor": 0
      },
      "text/plain": [
       "Training: 0it [00:00, ?it/s]"
      ]
     },
     "metadata": {},
     "output_type": "display_data"
    },
    {
     "data": {
      "application/vnd.jupyter.widget-view+json": {
       "model_id": "bea1da42b22e48ad8d79a6d462a75a11",
       "version_major": 2,
       "version_minor": 0
      },
      "text/plain": [
       "Validation: 0it [00:00, ?it/s]"
      ]
     },
     "metadata": {},
     "output_type": "display_data"
    },
    {
     "data": {
      "application/vnd.jupyter.widget-view+json": {
       "model_id": "c9685947b41f4f1ab8462a8fccb4fc6a",
       "version_major": 2,
       "version_minor": 0
      },
      "text/plain": [
       "Validation: 0it [00:00, ?it/s]"
      ]
     },
     "metadata": {},
     "output_type": "display_data"
    },
    {
     "data": {
      "application/vnd.jupyter.widget-view+json": {
       "model_id": "cdb8ef20620a401cb65977d983be531b",
       "version_major": 2,
       "version_minor": 0
      },
      "text/plain": [
       "Validation: 0it [00:00, ?it/s]"
      ]
     },
     "metadata": {},
     "output_type": "display_data"
    },
    {
     "name": "stderr",
     "output_type": "stream",
     "text": [
      "/home/josh/.local/lib/python3.8/site-packages/pytorch_lightning/trainer/trainer.py:724: UserWarning: Detected KeyboardInterrupt, attempting graceful shutdown...\n",
      "  rank_zero_warn(\"Detected KeyboardInterrupt, attempting graceful shutdown...\")\n"
     ]
    }
   ],
   "source": [
    "trainer = pl.Trainer(gpus=1, max_epochs=epochs)\n",
    "main = Main_Loop(\n",
    "    model=model,\n",
    "    loss=criterion,\n",
    "    type_list=type_list,\n",
    "    scheduler=optim.lr_scheduler.ExponentialLR,\n",
    "    scheduler_args={\"gamma\": 0.95},\n",
    "    model_args=model_args,\n",
    "    loss_args={\"weight\": weight},\n",
    "    batch_size=batch_size,\n",
    "    optimizer=optim.AdamW,\n",
    "    optimizer_args={\"amsgrad\": True},\n",
    ")\n",
    "trainer.fit(main, data_module)"
   ]
  },
  {
   "cell_type": "code",
   "execution_count": null,
   "metadata": {},
   "outputs": [],
   "source": [
    "trainer.test(main, data_module)"
   ]
  }
 ],
 "metadata": {
  "interpreter": {
   "hash": "23c8950680a1dd05e43b50f867385c59d30967c147561349dd988e88db166001"
  },
  "kernelspec": {
   "display_name": "Python 3.9.10 ('project': conda)",
   "language": "python",
   "name": "python3"
  },
  "language_info": {
   "codemirror_mode": {
    "name": "ipython",
    "version": 3
   },
   "file_extension": ".py",
   "mimetype": "text/x-python",
   "name": "python",
   "nbconvert_exporter": "python",
   "pygments_lexer": "ipython3",
   "version": "3.8.10"
  },
  "orig_nbformat": 4
 },
 "nbformat": 4,
 "nbformat_minor": 2
}
