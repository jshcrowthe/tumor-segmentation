{
 "cells": [
  {
   "cell_type": "code",
   "execution_count": null,
   "metadata": {},
   "outputs": [],
   "source": [
    "import os\n",
    "import sys\n",
    "import tarfile\n",
    "\n",
    "# Patch the path to include local libs\n",
    "sys.path.insert(0, os.path.abspath('./libs'))"
   ]
  },
  {
   "cell_type": "code",
   "execution_count": null,
   "metadata": {},
   "outputs": [],
   "source": [
    "# Import \n",
    "import pytorch_lightning as pl\n",
    "from data.data_loader import MyDataModule\n",
    "from training.PL_train import Main_Loop\n",
    "import torch.optim as optim\n",
    "import torchio as tio\n",
    "import torch\n",
    "import matplotlib.pyplot as plt\n",
    "from data.brats_nii_data_utils import nni_utils\n",
    "import numpy as np"
   ]
  },
  {
   "cell_type": "code",
   "execution_count": null,
   "metadata": {},
   "outputs": [],
   "source": [
    "PROCESSED_DATA_PATH = os.path.abspath('./data/processed')\n",
    "RAW_DATA_PATH = os.path.abspath('./data/raw')"
   ]
  },
  {
   "cell_type": "code",
   "execution_count": null,
   "metadata": {},
   "outputs": [],
   "source": [
    "size = (48, 64, 48)\n",
    "model = \"deeplabv3plus\"\n",
    "criterion = \"Focal\"\n",
    "batch_size = 4\n",
    "type_list = [\"t1\"]\n",
    "epochs = 50\n",
    "weight = torch.from_numpy(np.array([.1,1,1,1,1])).float().cuda()\n",
    "model_args = {\n",
    "        # \"in_channels\":1,\n",
    "        # \"out_classes\":5,\n",
    "        # \"dimensions\":3,\n",
    "        # \"num_encoding_blocks\":3,\n",
    "        # \"out_channels_first_layer\":8,\n",
    "        # \"normalization\":'batch',\n",
    "        # \"upsampling_type\":'linear',\n",
    "        # \"padding\":True,\n",
    "        # \"activation\":'PReLU'\n",
    "            }\n",
    "\n",
    "# Data TRansforms\n",
    "train_transformer = tio.Compose([\n",
    "    tio.RandomMotion(p=0.2),\n",
    "    tio.RandomBiasField(p=0.3),\n",
    "    tio.ZNormalization(masking_method=tio.ZNormalization.mean),\n",
    "    tio.RandomNoise(p=0.5),\n",
    "    tio.RandomFlip(),\n",
    "    tio.OneOf({\n",
    "        tio.RandomAffine(): 0.8,\n",
    "        tio.RandomElasticDeformation(): 0.2,\n",
    "    }),\n",
    "])\n",
    "\n",
    "val_transformer = tio.Compose([\n",
    "    tio.ZNormalization(masking_method=tio.ZNormalization.mean),\n",
    "])\n",
    "\n",
    "# Dataloading\n",
    "data_module = MyDataModule(\n",
    "    data_dir=RAW_DATA_PATH,\n",
    "    out_dir=PROCESSED_DATA_PATH,\n",
    "    train_transformer=train_transformer,\n",
    "    val_transformer=val_transformer,\n",
    "    size=size,\n",
    "    type_list=type_list,\n",
    "    sample_list=type_list\n",
    ")"
   ]
  },
  {
   "cell_type": "code",
   "execution_count": null,
   "metadata": {},
   "outputs": [],
   "source": [
    "if len(os.listdir(RAW_DATA_PATH)) <= 1:\n",
    "  tarball_path = input(\"Path to BRATS 2021 training tarball\")\n",
    "  tarball_path = os.path.abspath(tarball_path)\n",
    "  \n",
    "  if tarfile.is_tarfile(tarball_path):\n",
    "    # open file\n",
    "    file = tarfile.open(tarball_path)\n",
    "      \n",
    "    # extracting file\n",
    "    file.extractall(RAW_DATA_PATH)\n",
    "      \n",
    "    file.close()\n",
    "  else:\n",
    "    raise Exception('Valid tarball path not passed')\n",
    "\n",
    "if len(os.listdir(PROCESSED_DATA_PATH)) <= 1:\n",
    "  print(\"Processing images\")\n",
    "  data_module.prepare_data()"
   ]
  },
  {
   "cell_type": "code",
   "execution_count": null,
   "metadata": {},
   "outputs": [],
   "source": [
    "\n",
    "trainer = pl.Trainer(gpus=1, max_epochs=epochs)\n",
    "\n",
    "main = Main_Loop(\n",
    "    model = model,\n",
    "    loss= criterion,\n",
    "    type_list = type_list,\n",
    "    scheduler = optim.lr_scheduler.ExponentialLR,\n",
    "    scheduler_args = {\"gamma\":.97},\n",
    "    model_args = model_args,\n",
    "    loss_args={\"weight\":weight  },\n",
    "    batch_size = batch_size,\n",
    "    optimizer = optim.AdamW,\n",
    "    optimizer_args= {\"amsgrad\":True}\n",
    ")\n",
    "trainer.fit(main, data_module)"
   ]
  },
  {
   "cell_type": "code",
   "execution_count": null,
   "metadata": {},
   "outputs": [],
   "source": [
    "trainer.test(main, data_module)"
   ]
  }
 ],
 "metadata": {
  "interpreter": {
   "hash": "23c8950680a1dd05e43b50f867385c59d30967c147561349dd988e88db166001"
  },
  "kernelspec": {
   "display_name": "Python 3.9.10 ('project': conda)",
   "language": "python",
   "name": "python3"
  },
  "language_info": {
   "codemirror_mode": {
    "name": "ipython",
    "version": 3
   },
   "file_extension": ".py",
   "mimetype": "text/x-python",
   "name": "python",
   "nbconvert_exporter": "python",
   "pygments_lexer": "ipython3",
   "version": "3.8.10"
  },
  "orig_nbformat": 4
 },
 "nbformat": 4,
 "nbformat_minor": 2
}
