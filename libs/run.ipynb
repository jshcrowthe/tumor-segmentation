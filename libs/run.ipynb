{
 "cells": [
  {
   "cell_type": "code",
   "execution_count": 1,
   "metadata": {},
   "outputs": [],
   "source": [
    "import pytorch_lightning as pl\n",
    "from  data.data_loader import MyDataModule \n",
    "from training.PL_train import Main_Loop\n",
    "from metrics.accuracy import accuracy\n",
    "import torch.optim as optim\n",
    "import torchio as tio"
   ]
  },
  {
   "cell_type": "code",
   "execution_count": 3,
   "metadata": {},
   "outputs": [],
   "source": [
    "size = (48, 60, 48)\n",
    "model = \"Onelayer\"\n",
    "criterion = \"Jacard\""
   ]
  },
  {
   "cell_type": "code",
   "execution_count": 2,
   "metadata": {},
   "outputs": [],
   "source": [
    "train_transformer = tio.Compose([\n",
    "    tio.RandomMotion(p=0.2),\n",
    "    tio.RandomBiasField(p=0.3),\n",
    "    tio.ZNormalization(masking_method=tio.ZNormalization.mean),\n",
    "    tio.RandomNoise(p=0.5),\n",
    "    tio.RandomFlip(),\n",
    "    tio.OneOf({\n",
    "        tio.RandomAffine(): 0.8,\n",
    "        tio.RandomElasticDeformation(): 0.2,\n",
    "    }),\n",
    "])\n",
    "\n",
    "val_transformer = tio.Compose([\n",
    "    tio.ZNormalization(masking_method=tio.ZNormalization.mean),\n",
    "])\n",
    "\n",
    "data_module = MyDataModule(\n",
    "    train_transformer=train_transformer,\n",
    "    val_transformer = val_transformer,\n",
    "    prepaire=True,\n",
    "    size = size\n",
    "    )"
   ]
  },
  {
   "cell_type": "code",
   "execution_count": 5,
   "metadata": {},
   "outputs": [
    {
     "name": "stderr",
     "output_type": "stream",
     "text": [
      "GPU available: True, used: True\n",
      "TPU available: False, using: 0 TPU cores\n",
      "IPU available: False, using: 0 IPUs\n",
      "HPU available: False, using: 0 HPUs\n",
      "100%|██████████| 1251/1251 [07:38<00:00,  2.73it/s]\n",
      "LOCAL_RANK: 0 - CUDA_VISIBLE_DEVICES: [0]\n",
      "\n",
      "  | Name  | Type         | Params\n",
      "---------------------------------------\n",
      "0 | model | OneLayer     | 10    \n",
      "1 | loss  | CrossEntropy | 0     \n",
      "---------------------------------------\n",
      "10        Trainable params\n",
      "0         Non-trainable params\n",
      "10        Total params\n",
      "0.000     Total estimated model params size (MB)\n"
     ]
    },
    {
     "data": {
      "application/vnd.jupyter.widget-view+json": {
       "model_id": "4fc924e6b772498cabbc47fc82af0f82",
       "version_major": 2,
       "version_minor": 0
      },
      "text/plain": [
       "Sanity Checking: 0it [00:00, ?it/s]"
      ]
     },
     "metadata": {},
     "output_type": "display_data"
    },
    {
     "data": {
      "application/vnd.jupyter.widget-view+json": {
       "model_id": "3779d621ef2046158c0fd850dc436f31",
       "version_major": 2,
       "version_minor": 0
      },
      "text/plain": [
       "Training: 0it [00:00, ?it/s]"
      ]
     },
     "metadata": {},
     "output_type": "display_data"
    },
    {
     "data": {
      "application/vnd.jupyter.widget-view+json": {
       "model_id": "346463efa3ee4ce683c022eeb11e67c0",
       "version_major": 2,
       "version_minor": 0
      },
      "text/plain": [
       "Validation: 0it [00:00, ?it/s]"
      ]
     },
     "metadata": {},
     "output_type": "display_data"
    },
    {
     "data": {
      "application/vnd.jupyter.widget-view+json": {
       "model_id": "94fb0fd3e8d949c3bb99665843f59a07",
       "version_major": 2,
       "version_minor": 0
      },
      "text/plain": [
       "Validation: 0it [00:00, ?it/s]"
      ]
     },
     "metadata": {},
     "output_type": "display_data"
    },
    {
     "data": {
      "application/vnd.jupyter.widget-view+json": {
       "model_id": "cb8c5d9d15f0451e8b7f19c908de9474",
       "version_major": 2,
       "version_minor": 0
      },
      "text/plain": [
       "Validation: 0it [00:00, ?it/s]"
      ]
     },
     "metadata": {},
     "output_type": "display_data"
    },
    {
     "data": {
      "application/vnd.jupyter.widget-view+json": {
       "model_id": "3d527cedc2764c6193917629ae998e4a",
       "version_major": 2,
       "version_minor": 0
      },
      "text/plain": [
       "Validation: 0it [00:00, ?it/s]"
      ]
     },
     "metadata": {},
     "output_type": "display_data"
    }
   ],
   "source": [
    "trainer = pl.Trainer(gpus=1,max_epochs = 100)\n",
    "main = Main_Loop(model = \"OneLayer\",loss= \"CrossEntropy\",scheduler = optim.lr_scheduler.CosineAnnealingLR,scheduler_args = {\"T_max\":100})\n",
    "trainer.fit(main, data_module)"
   ]
  }
 ],
 "metadata": {
  "interpreter": {
   "hash": "23c8950680a1dd05e43b50f867385c59d30967c147561349dd988e88db166001"
  },
  "kernelspec": {
   "display_name": "Python 3.9.10 ('project': conda)",
   "language": "python",
   "name": "python3"
  },
  "language_info": {
   "codemirror_mode": {
    "name": "ipython",
    "version": 3
   },
   "file_extension": ".py",
   "mimetype": "text/x-python",
   "name": "python",
   "nbconvert_exporter": "python",
   "pygments_lexer": "ipython3",
   "version": "3.7.12"
  },
  "orig_nbformat": 4
 },
 "nbformat": 4,
 "nbformat_minor": 2
}
