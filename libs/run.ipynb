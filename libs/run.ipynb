{
 "cells": [
  {
   "cell_type": "code",
   "execution_count": 1,
   "metadata": {},
   "outputs": [],
   "source": [
    "import pytorch_lightning as pl\n",
    "from  data.data_loader import MyDataModule \n",
    "from models import OneLayer\n",
    "from losses.CrossEntropy import CrossEntropy\n",
    "from losses.Tversky import FocalTverskyLoss\n",
    "from losses.Dice import DiceLoss\n",
    "from losses.Focal import FocalLoss\n",
    "from losses.Jacard import JacardLoss\n",
    "from training.PL_train import Main_Loop\n",
    "from metrics.accuracy import accuracy\n"
   ]
  },
  {
   "cell_type": "code",
   "execution_count": 2,
   "metadata": {},
   "outputs": [],
   "source": [
    "model = OneLayer(n_classes=5).cuda()\n",
    "criterion = JacardLoss().cuda()\n",
    "data_module = MyDataModule(prepaire=False)"
   ]
  },
  {
   "cell_type": "code",
   "execution_count": 3,
   "metadata": {},
   "outputs": [
    {
     "name": "stderr",
     "output_type": "stream",
     "text": [
      "GPU available: True, used: True\n",
      "TPU available: False, using: 0 TPU cores\n",
      "IPU available: False, using: 0 IPUs\n",
      "HPU available: False, using: 0 HPUs\n",
      "  2%|▏         | 30/1251 [00:07<05:32,  3.68it/s]"
     ]
    }
   ],
   "source": [
    "trainer = pl.Trainer(gpus=1,max_epochs = 100)\n",
    "main = Main_Loop(model = model,loss= criterion, metric= accuracy)\n",
    "trainer.fit(main, data_module)"
   ]
  }
 ],
 "metadata": {
  "interpreter": {
   "hash": "23c8950680a1dd05e43b50f867385c59d30967c147561349dd988e88db166001"
  },
  "kernelspec": {
   "display_name": "Python 3.9.10 ('project': conda)",
   "language": "python",
   "name": "python3"
  },
  "language_info": {
   "codemirror_mode": {
    "name": "ipython",
    "version": 3
   },
   "file_extension": ".py",
   "mimetype": "text/x-python",
   "name": "python",
   "nbconvert_exporter": "python",
   "pygments_lexer": "ipython3",
   "version": "3.7.12"
  },
  "orig_nbformat": 4
 },
 "nbformat": 4,
 "nbformat_minor": 2
}
