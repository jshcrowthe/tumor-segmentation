{
 "cells": [
  {
   "cell_type": "code",
   "execution_count": 67,
   "metadata": {},
   "outputs": [],
   "source": [
    "from tbparse import SummaryReader\n",
    "import numpy as np\n",
    "import os\n",
    "import matplotlib.pyplot as plt"
   ]
  },
  {
   "cell_type": "code",
   "execution_count": 41,
   "metadata": {},
   "outputs": [],
   "source": [
    "def parse_data(log_dir):\n",
    "    trials =os.listdir(log_dir)\n",
    "    trials = sorted(trials,key=lambda x:int(x.split(\"_\")[1]))\n",
    "\n",
    "    trail_data = {}\n",
    "    for i,trial in enumerate(trials):\n",
    "        reader = SummaryReader(os.path.join(log_dir,trial))\n",
    "        df = reader.scalars\n",
    "        tags = np.unique(df[\"tag\"])\n",
    "\n",
    "        trail_data[i] = { tag:df[df[\"tag\"]==tag][\"value\"].values  for tag in tags}\n",
    "    return trail_data"
   ]
  },
  {
   "cell_type": "code",
   "execution_count": 42,
   "metadata": {},
   "outputs": [],
   "source": [
    "custom_path =\"results/lightning_logs_custom\"\n",
    "DLV3_path =\"results/lightning_logs_DLV3\"\n",
    "unet_path =\"results/lightning_logs_unet\""
   ]
  },
  {
   "cell_type": "code",
   "execution_count": 43,
   "metadata": {},
   "outputs": [],
   "source": [
    "data_custom = parse_data(custom_path)\n",
    "data_DLV3 = parse_data(DLV3_path)\n",
    "data_unet = parse_data(unet_path)"
   ]
  },
  {
   "cell_type": "code",
   "execution_count": 80,
   "metadata": {},
   "outputs": [
    {
     "data": {
      "text/plain": [
       "dict_keys(['Test Acc_epoch', 'Test Acc_step', 'Test Loss_epoch', 'Test Loss_step', 'Test dice_coef_epoch', 'Test dice_coef_step', 'Test mIoU_epoch', 'Test mIoU_step', 'Train Acc_epoch', 'Train Acc_step', 'Train Loss_epoch', 'Train Loss_step', 'Train dice_coef_epoch', 'Train dice_coef_step', 'Train mIoU_epoch', 'Train mIoU_step', 'Validation Acc_epoch', 'Validation Acc_step', 'Validation Loss_epoch', 'Validation Loss_step', 'Validation dice_coef_epoch', 'Validation dice_coef_step', 'Validation mIoU_epoch', 'Validation mIoU_step', 'epoch', 'hp_metric'])"
      ]
     },
     "execution_count": 80,
     "metadata": {},
     "output_type": "execute_result"
    }
   ],
   "source": [
    "data_custom[0].keys()"
   ]
  },
  {
   "cell_type": "code",
   "execution_count": 86,
   "metadata": {},
   "outputs": [
    {
     "data": {
      "image/png": "[encoded data removed]",
      "text/plain": [
       "<Figure size 432x288 with 1 Axes>"
      ]
     },
     "metadata": {
      "needs_background": "light"
     },
     "output_type": "display_data"
    }
   ],
   "source": [
    "x = np.arange(50)\n",
    "plt.plot(x,data_DLV3[5][\"Validation Loss_epoch\"],label= \"Validation\")\n",
    "plt.plot(x,data_DLV3[5][\"Train Loss_epoch\"],label = \"Train\")\n",
    "plt.xlabel(\"epoch\")\n",
    "plt.ylabel(\"Loss\")\n",
    "plt.legend(loc = \"best\")\n",
    "plt.yscale(\"log\")"
   ]
  },
  {
   "cell_type": "code",
   "execution_count": null,
   "metadata": {},
   "outputs": [],
   "source": [
    "from matplotlib import ticker as mticker\n",
    "from matplotlib.pyplot import figure\n",
    "\n",
    "\n",
    "train = ['Train Acc_epoch',   'Train Loss_epoch',   'Train dice_coef_epoch', 'Train mIoU_epoch'] \n",
    "validation = ['Validation Acc_epoch',  'Validation Loss_epoch',  'Validation dice_coef_epoch', 'Validation mIoU_epoch']\n",
    "labels = ['Accuracy', 'Loss', 'Dice Coefficient', 'mIoU']\n",
    "\n",
    "best_model_versions = [('DeepLabv3Plus (version 5)',data_DLV3[5]),\n",
    "          ('Unet (version 2)', data_unet[2]),\n",
    "          ('Custom (version 28)',data_custom[28]),\n",
    "         ]\n",
    " \n",
    "\n",
    "x = np.arange(50)\n",
    "for model_version in best_model_versions:\n",
    "    for t,v,label in zip (train, validation, labels):\n",
    "        name, m = model_version\n",
    "\n",
    "        figure(figsize=(8, 6), dpi=80)\n",
    "        plt.plot(x,m[v],label= \"Validation\")\n",
    "        plt.plot(x,m[t],label = \"Train\")\n",
    "        plt.xlabel(\"Epoch\")\n",
    "        plt.ylabel(label)\n",
    "        plt.legend(loc = \"best\")\n",
    "        plt.yscale(\"log\")\n",
    "        plt.title(\"{} - {}\".format(name,label+\" x Epoch\" ))\n",
    "        plt.show()\n",
    "    "
   ]
  },
  {
   "cell_type": "code",
   "execution_count": 44,
   "metadata": {},
   "outputs": [],
   "source": [
    "custom_max = np.vstack([  data_custom[key]['Test mIoU_epoch'] for key in data_custom.keys()]).argmax()\n",
    "DLV3_max = np.vstack([  data_DLV3[key]['Test mIoU_epoch'] for key in data_DLV3.keys()]).argmax()\n",
    "unet_max = np.vstack([  data_unet[key]['Test mIoU_epoch'] for key in data_unet.keys()]).argmax()"
   ]
  },
  {
   "cell_type": "code",
   "execution_count": 45,
   "metadata": {},
   "outputs": [
    {
     "name": "stdout",
     "output_type": "stream",
     "text": [
      "0.3893795609474182\n",
      "0.25354263186454773\n",
      "0.28153207898139954\n"
     ]
    }
   ],
   "source": [
    "print(np.vstack([  data_custom[key]['Test mIoU_epoch'] for key in data_custom.keys()]).max())\n",
    "print(np.vstack([  data_DLV3[key]['Test mIoU_epoch'] for key in data_DLV3.keys()]).max())\n",
    "print(np.vstack([  data_unet[key]['Test mIoU_epoch'] for key in data_unet.keys()]).max())"
   ]
  },
  {
   "cell_type": "code",
   "execution_count": 46,
   "metadata": {},
   "outputs": [
    {
     "data": {
      "text/plain": [
       "2"
      ]
     },
     "execution_count": 46,
     "metadata": {},
     "output_type": "execute_result"
    }
   ],
   "source": [
    "custom_max #Focal Adam ExpLR Flair"
   ]
  },
  {
   "cell_type": "code",
   "execution_count": 47,
   "metadata": {},
   "outputs": [
    {
     "data": {
      "text/plain": [
       "5"
      ]
     },
     "execution_count": 47,
     "metadata": {},
     "output_type": "execute_result"
    }
   ],
   "source": [
    "DLV3_max #Focal RMSProp ExpLR Flair"
   ]
  },
  {
   "cell_type": "code",
   "execution_count": 48,
   "metadata": {},
   "outputs": [
    {
     "data": {
      "text/plain": [
       "1"
      ]
     },
     "execution_count": 48,
     "metadata": {},
     "output_type": "execute_result"
    }
   ],
   "source": [
    "unet_max #Focal Adam ExpLR t2"
   ]
  },
  {
   "cell_type": "code",
   "execution_count": 49,
   "metadata": {},
   "outputs": [
    {
     "data": {
      "text/plain": [
       "dict_keys(['Test Acc_epoch', 'Test Acc_step', 'Test Loss_epoch', 'Test Loss_step', 'Test dice_coef_epoch', 'Test dice_coef_step', 'Test mIoU_epoch', 'Test mIoU_step', 'Train Acc_epoch', 'Train Acc_step', 'Train Loss_epoch', 'Train Loss_step', 'Train dice_coef_epoch', 'Train dice_coef_step', 'Train mIoU_epoch', 'Train mIoU_step', 'Validation Acc_epoch', 'Validation Acc_step', 'Validation Loss_epoch', 'Validation Loss_step', 'Validation dice_coef_epoch', 'Validation dice_coef_step', 'Validation mIoU_epoch', 'Validation mIoU_step', 'epoch', 'hp_metric'])"
      ]
     },
     "execution_count": 49,
     "metadata": {},
     "output_type": "execute_result"
    }
   ],
   "source": [
    "data_custom[0].keys()"
   ]
  },
  {
   "cell_type": "code",
   "execution_count": 50,
   "metadata": {},
   "outputs": [],
   "source": [
    "custom_max = np.vstack([  data_custom[key]['Test dice_coef_epoch'] for key in data_custom.keys()]).argmax()\n",
    "DLV3_max = np.vstack([  data_DLV3[key]['Test dice_coef_epoch'] for key in data_DLV3.keys()]).argmax()\n",
    "unet_max = np.vstack([  data_unet[key]['Test dice_coef_epoch'] for key in data_unet.keys()]).argmax()"
   ]
  },
  {
   "cell_type": "code",
   "execution_count": 63,
   "metadata": {},
   "outputs": [
    {
     "name": "stdout",
     "output_type": "stream",
     "text": [
      "0.5463778376579285\n",
      "0.39441612362861633\n",
      "0.4232841730117798\n"
     ]
    }
   ],
   "source": [
    "print(np.vstack([  data_custom[key]['Test dice_coef_epoch'] for key in data_custom.keys()]).max())\n",
    "print(np.vstack([  data_DLV3[key]['Test dice_coef_epoch'] for key in data_DLV3.keys()]).max())\n",
    "print(np.vstack([  data_unet[key]['Test dice_coef_epoch'] for key in data_unet.keys()]).max())"
   ]
  },
  {
   "cell_type": "code",
   "execution_count": 52,
   "metadata": {},
   "outputs": [
    {
     "data": {
      "text/plain": [
       "5"
      ]
     },
     "execution_count": 52,
     "metadata": {},
     "output_type": "execute_result"
    }
   ],
   "source": [
    "DLV3_max #Focal RMSProp ExpLR Flair"
   ]
  },
  {
   "cell_type": "code",
   "execution_count": 53,
   "metadata": {},
   "outputs": [
    {
     "data": {
      "text/plain": [
       "1"
      ]
     },
     "execution_count": 53,
     "metadata": {},
     "output_type": "execute_result"
    }
   ],
   "source": [
    "unet_max #Focal Adam ExpLR t2"
   ]
  },
  {
   "cell_type": "code",
   "execution_count": 54,
   "metadata": {},
   "outputs": [
    {
     "data": {
      "text/plain": [
       "2"
      ]
     },
     "execution_count": 54,
     "metadata": {},
     "output_type": "execute_result"
    }
   ],
   "source": [
    "custom_max #Focal Adam ExpLR Flair"
   ]
  },
  {
   "cell_type": "code",
   "execution_count": 55,
   "metadata": {},
   "outputs": [
    {
     "data": {
      "text/plain": [
       "5"
      ]
     },
     "execution_count": 55,
     "metadata": {},
     "output_type": "execute_result"
    }
   ],
   "source": [
    "DLV3_max #Focal RMSProp ExpLR Flair"
   ]
  },
  {
   "cell_type": "code",
   "execution_count": 56,
   "metadata": {},
   "outputs": [
    {
     "data": {
      "text/plain": [
       "1"
      ]
     },
     "execution_count": 56,
     "metadata": {},
     "output_type": "execute_result"
    }
   ],
   "source": [
    "unet_max #Focal Adam ExpLR t2"
   ]
  },
  {
   "cell_type": "code",
   "execution_count": 57,
   "metadata": {},
   "outputs": [
    {
     "data": {
      "text/plain": [
       "2"
      ]
     },
     "execution_count": 57,
     "metadata": {},
     "output_type": "execute_result"
    }
   ],
   "source": [
    "custom_max #Focal Adam ExpLR Flair"
   ]
  },
  {
   "cell_type": "code",
   "execution_count": 58,
   "metadata": {},
   "outputs": [],
   "source": [
    "custom_max = np.vstack([  data_custom[key]['Test Acc_epoch'] for key in data_custom.keys()]).argmax()\n",
    "DLV3_max = np.vstack([  data_DLV3[key]['Test Acc_epoch'] for key in data_DLV3.keys()]).argmax()\n",
    "unet_max = np.vstack([  data_unet[key]['Test Acc_epoch'] for key in data_unet.keys()]).argmax()"
   ]
  },
  {
   "cell_type": "code",
   "execution_count": 64,
   "metadata": {},
   "outputs": [
    {
     "name": "stdout",
     "output_type": "stream",
     "text": [
      "0.6720225214958191\n",
      "0.5839999318122864\n",
      "0.5707069635391235\n"
     ]
    }
   ],
   "source": [
    "print(np.vstack([  data_custom[key]['Test Acc_epoch'] for key in data_custom.keys()]).max())\n",
    "print(np.vstack([  data_DLV3[key]['Test Acc_epoch'] for key in data_DLV3.keys()]).max())\n",
    "print(np.vstack([  data_unet[key]['Test Acc_epoch'] for key in data_unet.keys()]).max())"
   ]
  },
  {
   "cell_type": "code",
   "execution_count": 60,
   "metadata": {},
   "outputs": [
    {
     "data": {
      "text/plain": [
       "5"
      ]
     },
     "execution_count": 60,
     "metadata": {},
     "output_type": "execute_result"
    }
   ],
   "source": [
    "DLV3_max #Focal RMSProp ExpLR Flair"
   ]
  },
  {
   "cell_type": "code",
   "execution_count": 61,
   "metadata": {},
   "outputs": [
    {
     "data": {
      "text/plain": [
       "2"
      ]
     },
     "execution_count": 61,
     "metadata": {},
     "output_type": "execute_result"
    }
   ],
   "source": [
    "unet_max #Focal Adam ExpLR t2 - >  Flair"
   ]
  },
  {
   "cell_type": "code",
   "execution_count": 62,
   "metadata": {},
   "outputs": [
    {
     "data": {
      "text/plain": [
       "28"
      ]
     },
     "execution_count": 62,
     "metadata": {},
     "output_type": "execute_result"
    }
   ],
   "source": [
    "custom_max #Focal Adam ExpLR Flair - > logcosh t2"
   ]
  }
 ],
 "metadata": {
  "interpreter": {
   "hash": "23c8950680a1dd05e43b50f867385c59d30967c147561349dd988e88db166001"
  },
  "kernelspec": {
   "display_name": "Python 3.7.12 ('project': conda)",
   "language": "python",
   "name": "python3"
  },
  "language_info": {
   "codemirror_mode": {
    "name": "ipython",
    "version": 3
   },
   "file_extension": ".py",
   "mimetype": "text/x-python",
   "name": "python",
   "nbconvert_exporter": "python",
   "pygments_lexer": "ipython3",
   "version": "3.7.12"
  },
  "orig_nbformat": 4
 },
 "nbformat": 4,
 "nbformat_minor": 2
}
